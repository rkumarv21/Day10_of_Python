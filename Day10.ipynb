{
 "cells": [
  {
   "cell_type": "markdown",
   "id": "b98e152d",
   "metadata": {},
   "source": [
    "## Day 10"
   ]
  },
  {
   "cell_type": "code",
   "execution_count": 13,
   "id": "bba6b75c",
   "metadata": {},
   "outputs": [
    {
     "name": "stdout",
     "output_type": "stream",
     "text": [
      "Full name is Ravi Vishwakarma\n"
     ]
    }
   ],
   "source": [
    "#Function with Output\n",
    "\n",
    "def Name_format(f_name,l_name):\n",
    "    formated_f_name = f_name.title() # .title() is ude to convert into first letter into capital letter others are small letter\n",
    "    formated_l_name = l_name.title()\n",
    "    return f\"Full name is {formated_f_name} {formated_l_name}\"\n",
    "output = Name_format(\"ravi\",\"vishwakarma\")\n",
    "print(output)"
   ]
  },
  {
   "cell_type": "code",
   "execution_count": 27,
   "id": "4da7ce11",
   "metadata": {},
   "outputs": [
    {
     "name": "stdout",
     "output_type": "stream",
     "text": [
      "what is your first name? kjdshfkj\n",
      "what is your last name? kjsfgk\n",
      "Full name is: Kjdshfkj Kjsfgk\n"
     ]
    }
   ],
   "source": [
    "# with multiple return statement\n",
    "def name_format(f_name,l_name):\n",
    "    if f_name == '' or l_name == '':\n",
    "        return \"you havn't eneter first name or last name\"\n",
    "    formated_f_name = f_name.title()\n",
    "    formated_l_name = l_name.title()\n",
    "    return f\"Full name is: {formated_f_name} {formated_l_name}\"\n",
    "print(name_format(input(\"what is your first name? \"), input(\"what is your last name? \")))"
   ]
  },
  {
   "cell_type": "code",
   "execution_count": null,
   "id": "e6920b79",
   "metadata": {},
   "outputs": [],
   "source": [
    "#Functions with Outputs\n",
    "def format_name(f_name, l_name):\n",
    "  if f_name == \"\" or l_name == \"\":\n",
    "    return \"You didn't provide valid inputs.\"\n",
    "  formated_f_name = f_name.title()\n",
    "  formated_l_name = l_name.title()\n",
    "  f\"Result: {formated_f_name} {formated_l_name}\"\n",
    "\n",
    "#Storing output in a variable\n",
    "formatted_name = format_name(input(\"Your first name: \"), input(\"Your last name: \"))\n",
    "print(formatted_name)\n",
    "#or printing output directly\n",
    "print(format_name(input(\"What is your first name? \"), input(\"What is your last name? \")))\n",
    "\n",
    "#Already used functions with outputs.\n",
    "length = len(formatted_name)\n",
    "\n",
    "#Return as an early exit\n",
    "def format_name(f_name, l_name):\n",
    "  \"\"\"Take a first and last name and format it \n",
    "  to return the title case version of the name.\"\"\"\n",
    "  if f_name == \"\" or l_name == \"\":\n",
    "    return \"You didn't provide valid inputs.\"\n",
    "  formated_f_name = f_name.title()\n",
    "  formated_l_name = l_name.title()\n",
    "  return f\"Result: {formated_f_name} {formated_l_name}\"\n",
    "\n",
    "\n"
   ]
  },
  {
   "cell_type": "markdown",
   "id": "11c6a0c8",
   "metadata": {},
   "source": [
    "#### exercise 10.1"
   ]
  },
  {
   "cell_type": "code",
   "execution_count": 32,
   "id": "1f772715",
   "metadata": {},
   "outputs": [
    {
     "name": "stdout",
     "output_type": "stream",
     "text": [
      "Enter a year: 2022\n",
      "Enter a month: 2\n",
      "28\n"
     ]
    }
   ],
   "source": [
    "# check whether given year is leap or not with month days as well\n",
    "def is_leap(year):\n",
    "  if year % 4 == 0:\n",
    "    if year % 100 == 0:\n",
    "      if year % 400 == 0:\n",
    "        return True\n",
    "      else:\n",
    "        return False\n",
    "    else:\n",
    "      return True\n",
    "  else:\n",
    "    return False\n",
    "\n",
    "def days_in_month(year,month):\n",
    "    if month>12 or month<1:\n",
    "        return \"Invalid month entered\"\n",
    "    month_days = [31, 28, 31, 30, 31, 30, 31, 31, 30, 31, 30, 31]  \n",
    "    if is_leap(year)  and month == 2:\n",
    "        return 29\n",
    "    return month_days[month-1] \n",
    "   \n",
    "year = int(input(\"Enter a year: \"))\n",
    "month = int(input(\"Enter a month: \"))\n",
    "days = days_in_month(year, month)\n",
    "print(days) # printing no of days in selected month of given year"
   ]
  },
  {
   "cell_type": "code",
   "execution_count": null,
   "id": "135c0ea2",
   "metadata": {},
   "outputs": [],
   "source": [
    "# Calculator\n",
    "#add\n",
    "def add(n1,n2):\n",
    "    return n1 + n2\n",
    "# substract\n",
    "def substract(n1, n2):\n",
    "    return n1-n2\n",
    "# multiply\n",
    "def multiply(n1,n2):\n",
    "    return n1*n2\n",
    "# devide\n",
    "def devide(n1,n2):\n",
    "    return n1/n2\n",
    "operation = {\n",
    "    \"+\":add, \n",
    "    \"-\":substract,\n",
    "    \"*\":multiply,\n",
    "    \"/\":devide\n",
    "}\n",
    "\n",
    "num1 = int(input(\"enter the first number: \"))\n",
    "\n",
    "for symbol in operation:\n",
    "    print(symbol)\n",
    "operation_symbol = input(\"choose any symbol from above list: \")\n",
    "num2 = int(input(\"enter the second number: \"))\n",
    "function = operation[operation_symbol]\n",
    "answer = function(num1,num2)\n",
    "print(f\"{num1} {operation_symbol} {num2} = {answer}\")"
   ]
  },
  {
   "cell_type": "markdown",
   "id": "703f1466",
   "metadata": {},
   "source": [
    "### project"
   ]
  },
  {
   "cell_type": "code",
   "execution_count": null,
   "id": "55c7a580",
   "metadata": {},
   "outputs": [],
   "source": [
    "logo = \"\"\"\n",
    " _____________________\n",
    "|  _________________  |\n",
    "| | Pythonista   0. | |  .----------------.  .----------------.  .----------------.  .----------------. \n",
    "| |_________________| | | .--------------. || .--------------. || .--------------. || .--------------. |\n",
    "|  ___ ___ ___   ___  | | |     ______   | || |      __      | || |   _____      | || |     ______   | |\n",
    "| | 7 | 8 | 9 | | + | | | |   .' ___  |  | || |     /  \\     | || |  |_   _|     | || |   .' ___  |  | |\n",
    "| |___|___|___| |___| | | |  / .'   \\_|  | || |    / /\\ \\    | || |    | |       | || |  / .'   \\_|  | |\n",
    "| | 4 | 5 | 6 | | - | | | |  | |         | || |   / ____ \\   | || |    | |   _   | || |  | |         | |\n",
    "| |___|___|___| |___| | | |  \\ `.___.'\\  | || | _/ /    \\ \\_ | || |   _| |__/ |  | || |  \\ `.___.'\\  | |\n",
    "| | 1 | 2 | 3 | | x | | | |   `._____.'  | || ||____|  |____|| || |  |________|  | || |   `._____.'  | |\n",
    "| |___|___|___| |___| | | |              | || |              | || |              | || |              | |\n",
    "| | . | 0 | = | | / | | | '--------------' || '--------------' || '--------------' || '--------------' |\n",
    "| |___|___|___| |___| |  '----------------'  '----------------'  '----------------'  '----------------' \n",
    "|_____________________|\n",
    "\"\"\"\n",
    "\n",
    "\n",
    "def add(n1, n2):\n",
    "  return n1 + n2\n",
    "\n",
    "def subtract(n1, n2):\n",
    "  return n1 - n2\n",
    "\n",
    "def multiply(n1, n2):\n",
    "  return n1 * n2\n",
    "\n",
    "def divide(n1, n2):\n",
    "  return n1 / n2\n",
    "\n",
    "operations = {\n",
    "  \"+\": add,\n",
    "  \"-\": subtract,\n",
    "  \"*\": multiply,\n",
    "  \"/\": divide,\n",
    "  \"%\": remainder\n",
    "}\n",
    "\n",
    "def calculator():\n",
    "  print(logo)\n",
    "\n",
    "  num1 = float(input(\"What's the first number?: \"))\n",
    "  for symbol in operations:\n",
    "    print(symbol)\n",
    "  should_continue = True\n",
    " \n",
    "  while should_continue:\n",
    "    operation_symbol = input(\"Pick an operation: \")\n",
    "    num2 = float(input(\"What's the next number?: \"))\n",
    "    calculation_function = operations[operation_symbol]\n",
    "    answer = calculation_function(num1, num2)\n",
    "    print(f\"{num1} {operation_symbol} {num2} = {answer}\")\n",
    "\n",
    "    if input(f\"Type 'y' to continue calculating with {answer}, or type 'n' to start a new calculation: \") == 'y':\n",
    "      num1 = answer\n",
    "    else:\n",
    "      should_continue = False\n",
    "      calculator()\n",
    "\n",
    "calculator()\n"
   ]
  },
  {
   "cell_type": "code",
   "execution_count": null,
   "id": "4b806515",
   "metadata": {},
   "outputs": [],
   "source": []
  },
  {
   "cell_type": "code",
   "execution_count": null,
   "id": "871a0bbd",
   "metadata": {},
   "outputs": [],
   "source": []
  }
 ],
 "metadata": {
  "kernelspec": {
   "display_name": "Python 3 (ipykernel)",
   "language": "python",
   "name": "python3"
  },
  "language_info": {
   "codemirror_mode": {
    "name": "ipython",
    "version": 3
   },
   "file_extension": ".py",
   "mimetype": "text/x-python",
   "name": "python",
   "nbconvert_exporter": "python",
   "pygments_lexer": "ipython3",
   "version": "3.9.7"
  }
 },
 "nbformat": 4,
 "nbformat_minor": 5
}
